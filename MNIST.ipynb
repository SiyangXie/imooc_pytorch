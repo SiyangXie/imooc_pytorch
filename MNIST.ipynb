{
 "cells": [
  {
   "cell_type": "code",
   "execution_count": 1,
   "metadata": {},
   "outputs": [],
   "source": [
    "import torch\n",
    "import torchvision.datasets as dataset\n",
    "import torchvision.transforms as transforms\n",
    "import torch.utils.data as data_utils"
   ]
  },
  {
   "cell_type": "code",
   "execution_count": 2,
   "metadata": {},
   "outputs": [
    {
     "name": "stdout",
     "output_type": "stream",
     "text": [
      "Downloading http://yann.lecun.com/exdb/mnist/train-images-idx3-ubyte.gz to mnist\\MNIST\\raw\\train-images-idx3-ubyte.gz\n"
     ]
    },
    {
     "data": {
      "application/vnd.jupyter.widget-view+json": {
       "model_id": "88cfb099e07d4a0b98d8be9520a3d662",
       "version_major": 2,
       "version_minor": 0
      },
      "text/plain": [
       "HBox(children=(HTML(value=''), FloatProgress(value=1.0, bar_style='info', layout=Layout(width='20px'), max=1.0…"
      ]
     },
     "metadata": {},
     "output_type": "display_data"
    },
    {
     "name": "stdout",
     "output_type": "stream",
     "text": [
      "Extracting mnist\\MNIST\\raw\\train-images-idx3-ubyte.gz to mnist\\MNIST\\raw\n",
      "Downloading http://yann.lecun.com/exdb/mnist/train-labels-idx1-ubyte.gz to mnist\\MNIST\\raw\\train-labels-idx1-ubyte.gz\n"
     ]
    },
    {
     "data": {
      "application/vnd.jupyter.widget-view+json": {
       "model_id": "bb6081412f2348209b78b93bddf65147",
       "version_major": 2,
       "version_minor": 0
      },
      "text/plain": [
       "HBox(children=(HTML(value=''), FloatProgress(value=1.0, bar_style='info', layout=Layout(width='20px'), max=1.0…"
      ]
     },
     "metadata": {},
     "output_type": "display_data"
    },
    {
     "name": "stdout",
     "output_type": "stream",
     "text": [
      "Extracting mnist\\MNIST\\raw\\train-labels-idx1-ubyte.gz to mnist\\MNIST\\raw\n",
      "Downloading http://yann.lecun.com/exdb/mnist/t10k-images-idx3-ubyte.gz to mnist\\MNIST\\raw\\t10k-images-idx3-ubyte.gz\n",
      "\n"
     ]
    },
    {
     "data": {
      "application/vnd.jupyter.widget-view+json": {
       "model_id": "05f3ef13e9eb4618b02bcab3ffc56e96",
       "version_major": 2,
       "version_minor": 0
      },
      "text/plain": [
       "HBox(children=(HTML(value=''), FloatProgress(value=1.0, bar_style='info', layout=Layout(width='20px'), max=1.0…"
      ]
     },
     "metadata": {},
     "output_type": "display_data"
    },
    {
     "name": "stdout",
     "output_type": "stream",
     "text": [
      "Extracting mnist\\MNIST\\raw\\t10k-images-idx3-ubyte.gz to mnist\\MNIST\\raw\n",
      "Downloading http://yann.lecun.com/exdb/mnist/t10k-labels-idx1-ubyte.gz to mnist\\MNIST\\raw\\t10k-labels-idx1-ubyte.gz\n"
     ]
    },
    {
     "data": {
      "application/vnd.jupyter.widget-view+json": {
       "model_id": "e6ca1e7a15874c1a9bebe211142d96d8",
       "version_major": 2,
       "version_minor": 0
      },
      "text/plain": [
       "HBox(children=(HTML(value=''), FloatProgress(value=1.0, bar_style='info', layout=Layout(width='20px'), max=1.0…"
      ]
     },
     "metadata": {},
     "output_type": "display_data"
    },
    {
     "name": "stdout",
     "output_type": "stream",
     "text": [
      "Extracting mnist\\MNIST\\raw\\t10k-labels-idx1-ubyte.gz to mnist\\MNIST\\raw\n",
      "Processing...\n"
     ]
    },
    {
     "name": "stderr",
     "output_type": "stream",
     "text": [
      "C:\\Users\\asus\\anaconda3\\envs\\yolov5\\lib\\site-packages\\torchvision\\datasets\\mnist.py:469: UserWarning: The given NumPy array is not writeable, and PyTorch does not support non-writeable tensors. This means you can write to the underlying (supposedly non-writeable) NumPy array using the tensor. You may want to copy the array to protect its data or make it writeable before converting it to a tensor. This type of warning will be suppressed for the rest of this program. (Triggered internally at  ..\\torch\\csrc\\utils\\tensor_numpy.cpp:141.)\n",
      "  return torch.from_numpy(parsed.astype(m[2], copy=False)).view(*s)\n"
     ]
    },
    {
     "name": "stdout",
     "output_type": "stream",
     "text": [
      "Done!\n"
     ]
    }
   ],
   "source": [
    "# data\n",
    "train_data = dataset.MNIST(root=\"mnist\",\n",
    "                           train=True,\n",
    "                           transform=transforms.ToTensor(),\n",
    "                           download=True)\n",
    "\n",
    "test_data = dataset.MNIST(root=\"mnist\",\n",
    "                           train=False,\n",
    "                           transform=transforms.ToTensor(),\n",
    "                           download=False)"
   ]
  },
  {
   "cell_type": "code",
   "execution_count": 3,
   "metadata": {},
   "outputs": [
    {
     "name": "stdout",
     "output_type": "stream",
     "text": [
      "\n"
     ]
    }
   ],
   "source": [
    "# net\n",
    "class CNN(torch.nn.Module):\n",
    "    def __init__(self):\n",
    "        super(CNN, self).__init__()\n",
    "        self.conv =torch.nn.Sequential(\n",
    "            torch.nn.Conv2d(1, 32, kernel_size=5, padding=2), # 灰度图，输入channel为1，定义输出channel为32，卷积核5*5\n",
    "            torch.nn.BatchNorm2d(32),\n",
    "            torch.nn.ReLU(),\n",
    "            torch.nn.MaxPool2d(2)\n",
    "        )\n",
    "        self.fc = torch.nn.Linear(14 * 14 * 32, 10) # 输入图片28*28，pooling为2，所以输出为14*14，channel为32, 10表示0-9\n",
    "    def forward(self, x):\n",
    "        out = self.conv(x) \n",
    "        out = out.view(out.size()[0], -1) # 通过view对shape修改，卷积后的tensor为4阶，nchw的顺序，out.size()[0]是batchsize\n",
    "        out = self.fc(out)\n",
    "        return out\n",
    "cnn = CNN()\n",
    "cnn = cnn.cuda()"
   ]
  },
  {
   "cell_type": "code",
   "execution_count": 4,
   "metadata": {},
   "outputs": [],
   "source": [
    "# batchsize\n",
    "train_loader = data_utils.DataLoader(dataset=train_data,\n",
    "                                     batch_size=64,\n",
    "                                     shuffle=True)\n",
    "\n",
    "test_loader = data_utils.DataLoader(dataset=test_data,\n",
    "                                     batch_size=64,\n",
    "                                     shuffle=True)"
   ]
  },
  {
   "cell_type": "code",
   "execution_count": 5,
   "metadata": {},
   "outputs": [],
   "source": [
    "# loss\n",
    "loss_func = torch.nn.CrossEntropyLoss()"
   ]
  },
  {
   "cell_type": "code",
   "execution_count": 6,
   "metadata": {},
   "outputs": [],
   "source": [
    "# optimizer\n",
    "optimizer = torch.optim.Adam(cnn.parameters(), lr=0.01)"
   ]
  },
  {
   "cell_type": "code",
   "execution_count": 7,
   "metadata": {},
   "outputs": [
    {
     "name": "stdout",
     "output_type": "stream",
     "text": [
      "epoch is 1, ite is 937/937, loss is 0.06873176246881485\n",
      "epoch is 1, accuracy is 0.9766, loss test is 0.07042369246482849\n",
      "epoch is 2, ite is 937/937, loss is 0.05819771811366081\n",
      "epoch is 2, accuracy is 0.9855, loss test is 0.04847172647714615\n",
      "epoch is 3, ite is 937/937, loss is 0.001544624101370573\n",
      "epoch is 3, accuracy is 0.9845, loss test is 0.04848683997988701\n",
      "epoch is 4, ite is 937/937, loss is 0.06189391389489174\n",
      "epoch is 4, accuracy is 0.979, loss test is 0.06930312514305115\n",
      "epoch is 5, ite is 937/937, loss is 0.025315267965197563\n",
      "epoch is 5, accuracy is 0.9843, loss test is 0.05037533864378929\n",
      "epoch is 6, ite is 937/937, loss is 0.006601848639547825\n",
      "epoch is 6, accuracy is 0.9832, loss test is 0.05782075971364975\n",
      "epoch is 7, ite is 937/937, loss is 0.007877813652157784\n",
      "epoch is 7, accuracy is 0.9851, loss test is 0.05763240531086922\n",
      "epoch is 8, ite is 937/937, loss is 0.00038773377309553325\n",
      "epoch is 8, accuracy is 0.9815, loss test is 0.07472898066043854\n",
      "epoch is 9, ite is 937/937, loss is 0.01888923905789852\n",
      "epoch is 9, accuracy is 0.9842, loss test is 0.05143120512366295\n",
      "epoch is 10, ite is 937/937, loss is 0.005339440423995256\n",
      "epoch is 10, accuracy is 0.9821, loss test is 0.07825638353824615\n"
     ]
    }
   ],
   "source": [
    "# training\n",
    "for epoch in range(10):\n",
    "    for i, (images, labels) in enumerate(train_loader):\n",
    "        images = images.cuda()\n",
    "        labels = labels.cuda()\n",
    "\n",
    "        outputs = cnn(images)\n",
    "        loss = loss_func(outputs, labels)\n",
    "\n",
    "        optimizer.zero_grad()\n",
    "        loss.backward()\n",
    "        optimizer.step()\n",
    "\n",
    "    print(\"epoch is {}, ite is \"\n",
    "          \"{}/{}, loss is {}\".format(epoch+1, i,\n",
    "                                     len(train_data) // 64, # batchsize为64\n",
    "                                     loss.item())) # loss为tensor，loss.item()为具体的值\n",
    "    # eval/test\n",
    "    loss_test = 0\n",
    "    accuracy = 0\n",
    "    for i, (images, labels) in enumerate(test_loader):\n",
    "        images = images.cuda()\n",
    "        labels = labels.cuda()\n",
    "        outputs = cnn(images)\n",
    "        #[batchsize]\n",
    "        #outputs = batchsize * cls_num\n",
    "        loss_test += loss_func(outputs, labels)\n",
    "        _, pred = outputs.max(1) # 相当于one-hot\n",
    "        accuracy += (pred == labels).sum().item()\n",
    "\n",
    "    accuracy = accuracy / len(test_data)\n",
    "    loss_test = loss_test / (len(test_data) // 64)\n",
    "\n",
    "    print(\"epoch is {}, accuracy is {}, \"\n",
    "          \"loss test is {}\".format(epoch + 1,\n",
    "                                   accuracy,\n",
    "                                   loss_test.item()))"
   ]
  },
  {
   "cell_type": "code",
   "execution_count": 8,
   "metadata": {},
   "outputs": [],
   "source": [
    "# save model\n",
    "torch.save(cnn, \"mnist_model.pkl\")"
   ]
  },
  {
   "cell_type": "code",
   "execution_count": 9,
   "metadata": {},
   "outputs": [
    {
     "name": "stdout",
     "output_type": "stream",
     "text": [
      "0.9822\n"
     ]
    }
   ],
   "source": [
    "# inference\n",
    "cnn = torch.load(\"mnist_model.pkl\")\n",
    "cnn = cnn.cuda()\n",
    "\n",
    "loss_test = 0\n",
    "accuracy = 0\n",
    "\n",
    "import cv2\n",
    "\n",
    "for i, (images, labels) in enumerate(test_loader):\n",
    "    images = images.cuda()\n",
    "    labels = labels.cuda()\n",
    "    outputs = cnn(images)\n",
    "    _, pred = outputs.max(1)\n",
    "    accuracy += (pred == labels).sum().item()\n",
    "\n",
    "    images = images.cpu().numpy()\n",
    "    labels = labels.cpu().numpy()\n",
    "    pred = pred.cpu().numpy()\n",
    "    #batchsize * 1 * 28 * 28\n",
    "\n",
    "    for idx in range(images.shape[0]):\n",
    "        im_data = images[idx]\n",
    "        im_label = labels[idx]\n",
    "        im_pred = pred[idx]\n",
    "        im_data = im_data.transpose(1, 2, 0)\n",
    "accuracy = accuracy / len(test_data)\n",
    "print(accuracy)"
   ]
  }
 ],
 "metadata": {
  "kernelspec": {
   "display_name": "yolov5",
   "language": "python",
   "name": "yolov5"
  },
  "language_info": {
   "codemirror_mode": {
    "name": "ipython",
    "version": 3
   },
   "file_extension": ".py",
   "mimetype": "text/x-python",
   "name": "python",
   "nbconvert_exporter": "python",
   "pygments_lexer": "ipython3",
   "version": "3.8.5"
  },
  "toc": {
   "base_numbering": 1,
   "nav_menu": {},
   "number_sections": true,
   "sideBar": true,
   "skip_h1_title": false,
   "title_cell": "Table of Contents",
   "title_sidebar": "Contents",
   "toc_cell": false,
   "toc_position": {},
   "toc_section_display": true,
   "toc_window_display": false
  }
 },
 "nbformat": 4,
 "nbformat_minor": 4
}
